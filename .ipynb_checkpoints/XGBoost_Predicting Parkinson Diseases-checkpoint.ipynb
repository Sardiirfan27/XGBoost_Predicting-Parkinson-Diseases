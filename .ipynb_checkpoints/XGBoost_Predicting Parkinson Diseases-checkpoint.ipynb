{
 "cells": [
  {
   "cell_type": "markdown",
   "metadata": {},
   "source": [
    "# Introduction \n",
    "\n",
    "Neurodegenerative diseases are a heterogeneous group of disorders that are characterized\n",
    "by the progressive degeneration of the structure and function of the nervous system. They\n",
    "are incurable and debilitating conditions that cause problems with mental functioning\n",
    "also called dementias.  \n",
    "\n",
    "Neurodegenerative diseases affect millions of people worldwide. Alzheimer’s disease and\n",
    "Parkinson’s disease are the most common neurodegenerative diseases. In 2016, an\n",
    "estimated 5.4 million Americans were living with Alzheimer’s disease. An estimated\n",
    "930,000 people in the United States could be living with Parkinson’s disease by 2020.\n",
    "\n",
    "The goal of this project is to build a model to accurately predict the presence of a\n",
    "neurodegenerative disease in an individual as early detection of a neurodegenerative\n",
    "disease could be useful for the identification of people who can participate in trials of\n",
    "neuroprotective agents, or ultimately to try and halt disease progression once effective\n",
    "disease-modifying interventions have been identified.\n",
    "Fortunately, in the last couple of months, you have been acquiring the needed skill to\n",
    "build machine learning models in python. Now it is your time to put your skill to test!\n",
    "\n",
    "\n",
    "For this task, you should do the following:\n",
    "\n",
    "* Obtain any neurodegenerative disease dataset of your choice from a reliable source. For example, [UCI ML Parkinson’s dataset](https://archive.ics.uci.edu/ml/machine-learning-databases/parkinsons/). Perform exploratory data analysis on this dataset.\n",
    "* Highlight at least 3 important questions that you would like to address, which will provide information to the public and help to create awareness about neurodegenerative diseases.\n",
    "* Carry out a detailed data analysis to answer your questions above. Your analysis should be done in Jupiter notebook with sections, headings and comments that aid readability.\n",
    "* Build a model that accurately predicts the presence of a neurodegenerative disease in an individual using you dataset in (1) above. The python libraries; scikit-learn, numpy, pandas, and xgboost might be useful. Remember to evaluate the accuracy of your model.\n",
    "* Submit your complete notebook to your GitHub repository and provide the link here. Submission is due on or before August 7, 2020.\n",
    "* Write a blog on neurodegenerative diseases, your dataset, the analysis you performed and the model that you built, your findings and recommendations. Give your blog a unique title. The blog should be written here (https://www.datainsightonline.com/blog) with code from your Jupyter notebook embedded similar to Python: The Language for Data Science. The due date for completing the blog is August 14, 2020.\n",
    "\n"
   ]
  },
  {
   "cell_type": "code",
   "execution_count": null,
   "metadata": {},
   "outputs": [],
   "source": []
  }
 ],
 "metadata": {
  "kernelspec": {
   "display_name": "Python 3",
   "language": "python",
   "name": "python3"
  },
  "language_info": {
   "codemirror_mode": {
    "name": "ipython",
    "version": 3
   },
   "file_extension": ".py",
   "mimetype": "text/x-python",
   "name": "python",
   "nbconvert_exporter": "python",
   "pygments_lexer": "ipython3",
   "version": "3.8.3"
  },
  "toc": {
   "base_numbering": 1,
   "nav_menu": {},
   "number_sections": true,
   "sideBar": true,
   "skip_h1_title": false,
   "title_cell": "Table of Contents",
   "title_sidebar": "Contents",
   "toc_cell": false,
   "toc_position": {},
   "toc_section_display": true,
   "toc_window_display": false
  },
  "varInspector": {
   "cols": {
    "lenName": 16,
    "lenType": 16,
    "lenVar": 40
   },
   "kernels_config": {
    "python": {
     "delete_cmd_postfix": "",
     "delete_cmd_prefix": "del ",
     "library": "var_list.py",
     "varRefreshCmd": "print(var_dic_list())"
    },
    "r": {
     "delete_cmd_postfix": ") ",
     "delete_cmd_prefix": "rm(",
     "library": "var_list.r",
     "varRefreshCmd": "cat(var_dic_list()) "
    }
   },
   "types_to_exclude": [
    "module",
    "function",
    "builtin_function_or_method",
    "instance",
    "_Feature"
   ],
   "window_display": false
  }
 },
 "nbformat": 4,
 "nbformat_minor": 4
}
